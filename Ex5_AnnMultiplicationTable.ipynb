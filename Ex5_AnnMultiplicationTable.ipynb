{
 "cells": [
  {
   "cell_type": "markdown",
   "metadata": {},
   "source": [
    "# Lista 5\n",
    "\n",
    "\n",
    "## Técnicas de Inteligência Computacional ll\n",
    "\n",
    "## Prof. [Gerson de Souza Faria](http://systemssoperfect.com) \n",
    "\n",
    "[gerson.faria@fgv.br](mailto:gerson.faria@fgv.br) \n",
    "\n",
    "\n",
    "versão 0.2 (Agosto/2020)\n",
    "\n",
    "***"
   ]
  },
  {
   "cell_type": "markdown",
   "metadata": {},
   "source": [
    "# Exercício: multiplicação por exemplos"
   ]
  },
  {
   "cell_type": "markdown",
   "metadata": {},
   "source": [
    "As redes neurais artificiais tem como princípio a capacidade de generalização via aprendizado por exemplos.\n",
    "\n",
    "\n",
    ">Apresente os resultados em forma tabulada, de tabuada, marcando em vermelho os resultados errados, se houver. Comente e compare os resultados entre os exeperimentos.\n",
    "\n"
   ]
  },
  {
   "cell_type": "markdown",
   "metadata": {},
   "source": [
    "\n",
    "**(1)** Treine uma rede neural artificial (não precisa ser profunda!) utilizando alguma biblioteca de *machine learning* (Matlab, Python, R etc) que aprenda tabuada de multiplicação do 1 ao 15. A biblioteca *scikit learn* é uma boa opção em Python.\n"
   ]
  },
  {
   "cell_type": "code",
   "execution_count": 1,
   "metadata": {},
   "outputs": [
    {
     "data": {
      "text/html": [
       "<div>\n",
       "<style scoped>\n",
       "    .dataframe tbody tr th:only-of-type {\n",
       "        vertical-align: middle;\n",
       "    }\n",
       "\n",
       "    .dataframe tbody tr th {\n",
       "        vertical-align: top;\n",
       "    }\n",
       "\n",
       "    .dataframe thead th {\n",
       "        text-align: right;\n",
       "    }\n",
       "</style>\n",
       "<table border=\"1\" class=\"dataframe\">\n",
       "  <thead>\n",
       "    <tr style=\"text-align: right;\">\n",
       "      <th></th>\n",
       "      <th>val1</th>\n",
       "      <th>val15</th>\n",
       "      <th>val</th>\n",
       "      <th>tabuada_1</th>\n",
       "      <th>tabuada_15</th>\n",
       "    </tr>\n",
       "  </thead>\n",
       "  <tbody>\n",
       "    <tr>\n",
       "      <th>0</th>\n",
       "      <td>1</td>\n",
       "      <td>15</td>\n",
       "      <td>1</td>\n",
       "      <td>1</td>\n",
       "      <td>15</td>\n",
       "    </tr>\n",
       "    <tr>\n",
       "      <th>1</th>\n",
       "      <td>1</td>\n",
       "      <td>15</td>\n",
       "      <td>2</td>\n",
       "      <td>2</td>\n",
       "      <td>30</td>\n",
       "    </tr>\n",
       "    <tr>\n",
       "      <th>2</th>\n",
       "      <td>1</td>\n",
       "      <td>15</td>\n",
       "      <td>3</td>\n",
       "      <td>3</td>\n",
       "      <td>45</td>\n",
       "    </tr>\n",
       "    <tr>\n",
       "      <th>3</th>\n",
       "      <td>1</td>\n",
       "      <td>15</td>\n",
       "      <td>4</td>\n",
       "      <td>4</td>\n",
       "      <td>60</td>\n",
       "    </tr>\n",
       "    <tr>\n",
       "      <th>4</th>\n",
       "      <td>1</td>\n",
       "      <td>15</td>\n",
       "      <td>5</td>\n",
       "      <td>5</td>\n",
       "      <td>75</td>\n",
       "    </tr>\n",
       "    <tr>\n",
       "      <th>5</th>\n",
       "      <td>1</td>\n",
       "      <td>15</td>\n",
       "      <td>6</td>\n",
       "      <td>6</td>\n",
       "      <td>90</td>\n",
       "    </tr>\n",
       "    <tr>\n",
       "      <th>6</th>\n",
       "      <td>1</td>\n",
       "      <td>15</td>\n",
       "      <td>7</td>\n",
       "      <td>7</td>\n",
       "      <td>105</td>\n",
       "    </tr>\n",
       "    <tr>\n",
       "      <th>7</th>\n",
       "      <td>1</td>\n",
       "      <td>15</td>\n",
       "      <td>8</td>\n",
       "      <td>8</td>\n",
       "      <td>120</td>\n",
       "    </tr>\n",
       "    <tr>\n",
       "      <th>8</th>\n",
       "      <td>1</td>\n",
       "      <td>15</td>\n",
       "      <td>9</td>\n",
       "      <td>9</td>\n",
       "      <td>135</td>\n",
       "    </tr>\n",
       "    <tr>\n",
       "      <th>9</th>\n",
       "      <td>1</td>\n",
       "      <td>15</td>\n",
       "      <td>10</td>\n",
       "      <td>10</td>\n",
       "      <td>150</td>\n",
       "    </tr>\n",
       "    <tr>\n",
       "      <th>10</th>\n",
       "      <td>1</td>\n",
       "      <td>15</td>\n",
       "      <td>11</td>\n",
       "      <td>11</td>\n",
       "      <td>165</td>\n",
       "    </tr>\n",
       "    <tr>\n",
       "      <th>11</th>\n",
       "      <td>1</td>\n",
       "      <td>15</td>\n",
       "      <td>12</td>\n",
       "      <td>12</td>\n",
       "      <td>180</td>\n",
       "    </tr>\n",
       "    <tr>\n",
       "      <th>12</th>\n",
       "      <td>1</td>\n",
       "      <td>15</td>\n",
       "      <td>13</td>\n",
       "      <td>13</td>\n",
       "      <td>195</td>\n",
       "    </tr>\n",
       "    <tr>\n",
       "      <th>13</th>\n",
       "      <td>1</td>\n",
       "      <td>15</td>\n",
       "      <td>14</td>\n",
       "      <td>14</td>\n",
       "      <td>210</td>\n",
       "    </tr>\n",
       "    <tr>\n",
       "      <th>14</th>\n",
       "      <td>1</td>\n",
       "      <td>15</td>\n",
       "      <td>15</td>\n",
       "      <td>15</td>\n",
       "      <td>225</td>\n",
       "    </tr>\n",
       "  </tbody>\n",
       "</table>\n",
       "</div>"
      ],
      "text/plain": [
       "    val1  val15  val  tabuada_1  tabuada_15\n",
       "0      1     15    1          1          15\n",
       "1      1     15    2          2          30\n",
       "2      1     15    3          3          45\n",
       "3      1     15    4          4          60\n",
       "4      1     15    5          5          75\n",
       "5      1     15    6          6          90\n",
       "6      1     15    7          7         105\n",
       "7      1     15    8          8         120\n",
       "8      1     15    9          9         135\n",
       "9      1     15   10         10         150\n",
       "10     1     15   11         11         165\n",
       "11     1     15   12         12         180\n",
       "12     1     15   13         13         195\n",
       "13     1     15   14         14         210\n",
       "14     1     15   15         15         225"
      ]
     },
     "execution_count": 1,
     "metadata": {},
     "output_type": "execute_result"
    }
   ],
   "source": [
    "import pandas as pd\n",
    "\n",
    "tabuada = [(1, 15, i) for i in range(1, 16)]\n",
    "tabuada_df = pd.DataFrame(tabuada)\n",
    "tabuada_df.columns = ['val1','val15','val']\n",
    "tabuada_df['tabuada_1'] = tabuada_df['val1'] *  tabuada_df['val']\n",
    "tabuada_df['tabuada_15'] = tabuada_df['val15'] *  tabuada_df['val']\n",
    "tabuada_df"
   ]
  },
  {
   "cell_type": "code",
   "execution_count": 2,
   "metadata": {},
   "outputs": [
    {
     "name": "stderr",
     "output_type": "stream",
     "text": [
      "C:\\Users\\Daniel\\anaconda3\\lib\\site-packages\\sklearn\\utils\\validation.py:73: DataConversionWarning: A column-vector y was passed when a 1d array was expected. Please change the shape of y to (n_samples, ), for example using ravel().\n",
      "  return f(**kwargs)\n",
      "C:\\Users\\Daniel\\anaconda3\\lib\\site-packages\\sklearn\\neural_network\\_multilayer_perceptron.py:582: ConvergenceWarning: Stochastic Optimizer: Maximum iterations (200) reached and the optimization hasn't converged yet.\n",
      "  warnings.warn(\n"
     ]
    }
   ],
   "source": [
    "X1 = tabuada_df[['val1', 'val']]\n",
    "y1 = tabuada_df[['tabuada_1']]\n",
    "\n",
    "from sklearn.neural_network import MLPRegressor\n",
    "from sklearn.model_selection import train_test_split\n",
    "from sklearn.metrics import mean_squared_error\n",
    "\n",
    "X1_train, X1_test, y1_train, y1_test = train_test_split(X1, y1, random_state=1)\n",
    "regr1 = MLPRegressor(random_state=1).fit(X1_train, y1_train)\n",
    "y1_pred = regr1.predict(X1_test)"
   ]
  },
  {
   "cell_type": "code",
   "execution_count": 12,
   "metadata": {},
   "outputs": [
    {
     "data": {
      "text/plain": [
       "0.052228796689170034"
      ]
     },
     "execution_count": 12,
     "metadata": {},
     "output_type": "execute_result"
    }
   ],
   "source": [
    "# mean squared error\n",
    "mean_squared_error(y1_test, y1_pred)"
   ]
  },
  {
   "cell_type": "code",
   "execution_count": 30,
   "metadata": {},
   "outputs": [
    {
     "data": {
      "text/plain": [
       "<matplotlib.axes._subplots.AxesSubplot at 0x23469a00f08>"
      ]
     },
     "execution_count": 30,
     "metadata": {},
     "output_type": "execute_result"
    },
    {
     "data": {
      "image/png": "[encoded data removed]",
      "text/plain": [
       "<Figure size 1080x720 with 1 Axes>"
      ]
     },
     "metadata": {
      "needs_background": "light"
     },
     "output_type": "display_data"
    }
   ],
   "source": [
    "plot1_df = pd.concat([y1_test.reset_index(drop=True), pd.DataFrame(y1_pred).reset_index(drop=True)], axis=1)\n",
    "plot1_df.columns = ['valor da tabuada', 'previsto pela rede neural']\n",
    "plot1_df.plot(figsize=(15, 10), title='Out-of-sample para tabuada do 1')"
   ]
  },
  {
   "cell_type": "code",
   "execution_count": 25,
   "metadata": {},
   "outputs": [
    {
     "name": "stderr",
     "output_type": "stream",
     "text": [
      "C:\\ProgramData\\Anaconda3\\lib\\site-packages\\sklearn\\neural_network\\_multilayer_perceptron.py:1342: DataConversionWarning: A column-vector y was passed when a 1d array was expected. Please change the shape of y to (n_samples, ), for example using ravel().\n",
      "  y = column_or_1d(y, warn=True)\n",
      "C:\\ProgramData\\Anaconda3\\lib\\site-packages\\sklearn\\neural_network\\_multilayer_perceptron.py:571: ConvergenceWarning: Stochastic Optimizer: Maximum iterations (200) reached and the optimization hasn't converged yet.\n",
      "  % self.max_iter, ConvergenceWarning)\n"
     ]
    }
   ],
   "source": [
    "X15 = tabuada_df[['val15', 'val']]\n",
    "y15 = tabuada_df[['tabuada_15']]\n",
    "\n",
    "X15_train, X15_test, y15_train, y15_test = train_test_split(X15, y15, random_state=1)\n",
    "regr15 = MLPRegressor(random_state=1).fit(X15_train, y15_train)\n",
    "y15_pred = regr15.predict(X15_test)"
   ]
  },
  {
   "cell_type": "code",
   "execution_count": 27,
   "metadata": {},
   "outputs": [
    {
     "data": {
      "text/plain": [
       "583.5810152427077"
      ]
     },
     "execution_count": 27,
     "metadata": {},
     "output_type": "execute_result"
    }
   ],
   "source": [
    "# mean squared error\n",
    "mean_squared_error(y15_test, y15_pred)"
   ]
  },
  {
   "cell_type": "code",
   "execution_count": 29,
   "metadata": {},
   "outputs": [
    {
     "data": {
      "text/plain": [
       "<matplotlib.axes._subplots.AxesSubplot at 0x23469846708>"
      ]
     },
     "execution_count": 29,
     "metadata": {},
     "output_type": "execute_result"
    },
    {
     "data": {
      "image/png": "[encoded data removed]",
      "text/plain": [
       "<Figure size 1080x720 with 1 Axes>"
      ]
     },
     "metadata": {
      "needs_background": "light"
     },
     "output_type": "display_data"
    }
   ],
   "source": [
    "plot15_df = pd.concat([y15_test.reset_index(drop=True), pd.DataFrame(y15_pred).reset_index(drop=True)], axis=1)\n",
    "plot15_df.columns = ['valor da tabuada', 'previsto pela rede neural']\n",
    "plot15_df.plot(figsize=(15, 10), title='Out-of-sample para tabuada do 15')"
   ]
  },
  {
   "cell_type": "markdown",
   "metadata": {},
   "source": [
    "### Tabelas da tabuada"
   ]
  },
  {
   "cell_type": "code",
   "execution_count": 35,
   "metadata": {},
   "outputs": [
    {
     "data": {
      "text/html": [
       "<div>\n",
       "<style scoped>\n",
       "    .dataframe tbody tr th:only-of-type {\n",
       "        vertical-align: middle;\n",
       "    }\n",
       "\n",
       "    .dataframe tbody tr th {\n",
       "        vertical-align: top;\n",
       "    }\n",
       "\n",
       "    .dataframe thead th {\n",
       "        text-align: right;\n",
       "    }\n",
       "</style>\n",
       "<table border=\"1\" class=\"dataframe\">\n",
       "  <thead>\n",
       "    <tr style=\"text-align: right;\">\n",
       "      <th></th>\n",
       "      <th>val1</th>\n",
       "      <th>val</th>\n",
       "      <th>valor da tabuada</th>\n",
       "      <th>previsto pela rede neural</th>\n",
       "    </tr>\n",
       "  </thead>\n",
       "  <tbody>\n",
       "    <tr>\n",
       "      <th>0</th>\n",
       "      <td>1</td>\n",
       "      <td>4</td>\n",
       "      <td>4</td>\n",
       "      <td>4.276071</td>\n",
       "    </tr>\n",
       "    <tr>\n",
       "      <th>1</th>\n",
       "      <td>1</td>\n",
       "      <td>8</td>\n",
       "      <td>8</td>\n",
       "      <td>8.108150</td>\n",
       "    </tr>\n",
       "    <tr>\n",
       "      <th>2</th>\n",
       "      <td>1</td>\n",
       "      <td>7</td>\n",
       "      <td>7</td>\n",
       "      <td>7.154486</td>\n",
       "    </tr>\n",
       "    <tr>\n",
       "      <th>3</th>\n",
       "      <td>1</td>\n",
       "      <td>3</td>\n",
       "      <td>3</td>\n",
       "      <td>3.311669</td>\n",
       "    </tr>\n",
       "  </tbody>\n",
       "</table>\n",
       "</div>"
      ],
      "text/plain": [
       "   val1  val  valor da tabuada  previsto pela rede neural\n",
       "0     1    4                 4                   4.276071\n",
       "1     1    8                 8                   8.108150\n",
       "2     1    7                 7                   7.154486\n",
       "3     1    3                 3                   3.311669"
      ]
     },
     "execution_count": 35,
     "metadata": {},
     "output_type": "execute_result"
    }
   ],
   "source": [
    "tabuada1_final = pd.concat([X1_test.reset_index(drop=True), plot1_df], axis=1)\n",
    "tabuada1_final"
   ]
  },
  {
   "cell_type": "code",
   "execution_count": 36,
   "metadata": {},
   "outputs": [
    {
     "data": {
      "text/html": [
       "<div>\n",
       "<style scoped>\n",
       "    .dataframe tbody tr th:only-of-type {\n",
       "        vertical-align: middle;\n",
       "    }\n",
       "\n",
       "    .dataframe tbody tr th {\n",
       "        vertical-align: top;\n",
       "    }\n",
       "\n",
       "    .dataframe thead th {\n",
       "        text-align: right;\n",
       "    }\n",
       "</style>\n",
       "<table border=\"1\" class=\"dataframe\">\n",
       "  <thead>\n",
       "    <tr style=\"text-align: right;\">\n",
       "      <th></th>\n",
       "      <th>val15</th>\n",
       "      <th>val</th>\n",
       "      <th>valor da tabuada</th>\n",
       "      <th>previsto pela rede neural</th>\n",
       "    </tr>\n",
       "  </thead>\n",
       "  <tbody>\n",
       "    <tr>\n",
       "      <th>0</th>\n",
       "      <td>15</td>\n",
       "      <td>4</td>\n",
       "      <td>60</td>\n",
       "      <td>79.981963</td>\n",
       "    </tr>\n",
       "    <tr>\n",
       "      <th>1</th>\n",
       "      <td>15</td>\n",
       "      <td>8</td>\n",
       "      <td>120</td>\n",
       "      <td>93.342598</td>\n",
       "    </tr>\n",
       "    <tr>\n",
       "      <th>2</th>\n",
       "      <td>15</td>\n",
       "      <td>7</td>\n",
       "      <td>105</td>\n",
       "      <td>90.030365</td>\n",
       "    </tr>\n",
       "    <tr>\n",
       "      <th>3</th>\n",
       "      <td>15</td>\n",
       "      <td>3</td>\n",
       "      <td>45</td>\n",
       "      <td>76.628124</td>\n",
       "    </tr>\n",
       "  </tbody>\n",
       "</table>\n",
       "</div>"
      ],
      "text/plain": [
       "   val15  val  valor da tabuada  previsto pela rede neural\n",
       "0     15    4                60                  79.981963\n",
       "1     15    8               120                  93.342598\n",
       "2     15    7               105                  90.030365\n",
       "3     15    3                45                  76.628124"
      ]
     },
     "execution_count": 36,
     "metadata": {},
     "output_type": "execute_result"
    }
   ],
   "source": [
    "tabuada15_final = pd.concat([X15_test.reset_index(drop=True), plot15_df], axis=1)\n",
    "tabuada15_final"
   ]
  },
  {
   "cell_type": "markdown",
   "metadata": {},
   "source": [
    "**(2)** Faça um programa genético que aprenda a mesma tarefa. \n"
   ]
  },
  {
   "cell_type": "code",
   "execution_count": 63,
   "metadata": {},
   "outputs": [
    {
     "data": {
      "text/plain": [
       "array([[ 1,  1],\n",
       "       [ 1,  2],\n",
       "       [ 1,  3],\n",
       "       [ 1,  4],\n",
       "       [ 1,  5],\n",
       "       [ 1,  6],\n",
       "       [ 1,  7],\n",
       "       [ 1,  8],\n",
       "       [ 1,  9],\n",
       "       [ 1, 10],\n",
       "       [ 1, 11],\n",
       "       [ 1, 12],\n",
       "       [ 1, 13],\n",
       "       [ 1, 14],\n",
       "       [ 1, 15]], dtype=int64)"
      ]
     },
     "execution_count": 63,
     "metadata": {},
     "output_type": "execute_result"
    }
   ],
   "source": [
    "pontos = X1.values\n",
    "pontos"
   ]
  },
  {
   "cell_type": "code",
   "execution_count": 60,
   "metadata": {},
   "outputs": [
    {
     "data": {
      "text/html": [
       "<div>\n",
       "<style scoped>\n",
       "    .dataframe tbody tr th:only-of-type {\n",
       "        vertical-align: middle;\n",
       "    }\n",
       "\n",
       "    .dataframe tbody tr th {\n",
       "        vertical-align: top;\n",
       "    }\n",
       "\n",
       "    .dataframe thead th {\n",
       "        text-align: right;\n",
       "    }\n",
       "</style>\n",
       "<table border=\"1\" class=\"dataframe\">\n",
       "  <thead>\n",
       "    <tr style=\"text-align: right;\">\n",
       "      <th></th>\n",
       "      <th>tabuada_1</th>\n",
       "    </tr>\n",
       "  </thead>\n",
       "  <tbody>\n",
       "    <tr>\n",
       "      <th>0</th>\n",
       "      <td>1</td>\n",
       "    </tr>\n",
       "    <tr>\n",
       "      <th>1</th>\n",
       "      <td>2</td>\n",
       "    </tr>\n",
       "    <tr>\n",
       "      <th>2</th>\n",
       "      <td>3</td>\n",
       "    </tr>\n",
       "    <tr>\n",
       "      <th>3</th>\n",
       "      <td>4</td>\n",
       "    </tr>\n",
       "    <tr>\n",
       "      <th>4</th>\n",
       "      <td>5</td>\n",
       "    </tr>\n",
       "  </tbody>\n",
       "</table>\n",
       "</div>"
      ],
      "text/plain": [
       "   tabuada_1\n",
       "0          1\n",
       "1          2\n",
       "2          3\n",
       "3          4\n",
       "4          5"
      ]
     },
     "execution_count": 60,
     "metadata": {},
     "output_type": "execute_result"
    }
   ],
   "source": [
    "y1.head()"
   ]
  },
  {
   "cell_type": "code",
   "execution_count": 64,
   "metadata": {},
   "outputs": [],
   "source": [
    "from deap import gp\n",
    "import operator\n",
    "from deap import creator\n",
    "from deap import base\n",
    "from deap import tools\n",
    "import numpy as np\n",
    "from deap import algorithms\n",
    "import math\n",
    "\n",
    "\n",
    "def tabuada_do_1(*args):\n",
    "    arg1, arg2 = args\n",
    "    return arg1 * arg2\n",
    "\n",
    "\n",
    "def avaliaFitness(individuo, points):\n",
    "    func = toolbox.compilador(expr=individuo)\n",
    "    sqerrors = ((func(*args) - tabuada_do_1(*args)) ** 2 for args in points)\n",
    "\n",
    "    return (math.fsum(sqerrors) / len(points),)\n",
    "\n",
    "\n",
    "def main():\n",
    "    pop = toolbox.populacao(n=1500)\n",
    "    hof = tools.HallOfFame(4)\n",
    "\n",
    "    CXPB = .9\n",
    "    MTPB = .01\n",
    "\n",
    "    stats_fit = tools.Statistics(lambda ind: ind.fitness.values)\n",
    "    stats_size = tools.Statistics(len)\n",
    "    mstats = tools.MultiStatistics(fitness=stats_fit, size=stats_size)\n",
    "\n",
    "    mstats.register(\"avg\", np.mean)\n",
    "    mstats.register(\"std\", np.std)\n",
    "    mstats.register(\"min\", np.min)\n",
    "    mstats.register(\"max\", np.max)\n",
    "\n",
    "    pop, log = algorithms.eaSimple(pop,\n",
    "                                   toolbox,\n",
    "                                   CXPB,\n",
    "                                   MTPB,\n",
    "                                   50,\n",
    "                                   stats=mstats,\n",
    "                                   halloffame=hof,\n",
    "                                   verbose=True)\n",
    "\n",
    "    return pop, log, hof\n",
    "\n",
    "\n"
   ]
  },
  {
   "cell_type": "code",
   "execution_count": 95,
   "metadata": {},
   "outputs": [
    {
     "name": "stderr",
     "output_type": "stream",
     "text": [
      "C:\\ProgramData\\Anaconda3\\lib\\site-packages\\deap\\creator.py:141: RuntimeWarning: A class named 'FitnessMin' has already been created and it will be overwritten. Consider deleting previous creation of that class or rename it.\n",
      "  RuntimeWarning)\n",
      "C:\\ProgramData\\Anaconda3\\lib\\site-packages\\deap\\creator.py:141: RuntimeWarning: A class named 'Individuo' has already been created and it will be overwritten. Consider deleting previous creation of that class or rename it.\n",
      "  RuntimeWarning)\n"
     ]
    },
    {
     "name": "stdout",
     "output_type": "stream",
     "text": [
      "   \t      \t                    fitness                    \t                      size                     \n",
      "   \t      \t-----------------------------------------------\t-----------------------------------------------\n",
      "gen\tnevals\tavg    \tgen\tmax    \tmin\tnevals\tstd    \tavg  \tgen\tmax\tmin\tnevals\tstd    \n",
      "0  \t1500  \t149.599\t0  \t1322.67\t0  \t1500  \t176.541\t3.738\t0  \t7  \t2  \t1500  \t1.56035\n",
      "1  \t1345  \t81.31  \t1  \t744    \t0  \t1345  \t107.123\t3.85067\t1  \t9  \t2  \t1345  \t1.46982\n",
      "2  \t1315  \t57.3331\t2  \t744    \t0  \t1315  \t79.7489\t4      \t2  \t9  \t1  \t1315  \t1.46561\n",
      "3  \t1326  \t51.0418\t3  \t363.667\t0  \t1326  \t72.7971\t4.03467\t3  \t10 \t1  \t1326  \t1.43717\n",
      "4  \t1338  \t46.1649\t4  \t697    \t0  \t1338  \t70.4512\t4.15133\t4  \t11 \t1  \t1338  \t1.51232\n",
      "5  \t1309  \t44.3544\t5  \t363.667\t0  \t1309  \t67.0636\t4.216  \t5  \t10 \t1  \t1309  \t1.59458\n",
      "6  \t1369  \t39.698 \t6  \t697    \t0  \t1369  \t59.2662\t4.18867\t6  \t10 \t1  \t1369  \t1.66525\n",
      "7  \t1365  \t34.8213\t7  \t697    \t0  \t1365  \t64.4702\t3.95067\t7  \t13 \t1  \t1365  \t1.90339\n",
      "8  \t1335  \t19.7584\t8  \t363.667\t0  \t1335  \t44.6143\t3.54467\t8  \t10 \t1  \t1335  \t2.19849\n",
      "9  \t1362  \t8.99867\t9  \t330.667\t0  \t1362  \t31.5731\t2.88   \t9  \t11 \t1  \t1362  \t2.23851\n",
      "10 \t1350  \t5.90156\t10 \t697    \t0  \t1350  \t30.3183\t2.47667\t10 \t10 \t1  \t1350  \t2.08905\n",
      "11 \t1357  \t3.498  \t11 \t330.667\t0  \t1357  \t21.0739\t2.254  \t11 \t10 \t1  \t1357  \t1.98498\n",
      "12 \t1349  \t7.20756\t12 \t363.667\t0  \t1349  \t35.7156\t2.17867\t12 \t10 \t1  \t1349  \t1.93393\n",
      "13 \t1359  \t3.48333\t13 \t744    \t0  \t1359  \t28.162 \t2.03467\t13 \t10 \t1  \t1359  \t1.85224\n",
      "14 \t1382  \t2.70022\t14 \t299.667\t0  \t1382  \t16.8993\t1.83467\t14 \t10 \t1  \t1382  \t1.73839\n",
      "15 \t1344  \t2.31956\t15 \t744    \t0  \t1344  \t25.9648\t1.77733\t15 \t10 \t1  \t1344  \t1.6812 \n",
      "16 \t1323  \t2.87267\t16 \t652    \t0  \t1323  \t26.4145\t1.658  \t16 \t10 \t1  \t1323  \t1.58988\n",
      "17 \t1357  \t2.60289\t17 \t330.667\t0  \t1357  \t24.4137\t1.61467\t17 \t10 \t1  \t1357  \t1.51817\n",
      "18 \t1339  \t1.58356\t18 \t363.667\t0  \t1339  \t18.9969\t1.51467\t18 \t10 \t1  \t1339  \t1.42938\n",
      "19 \t1372  \t1.69333\t19 \t330.667\t0  \t1372  \t18.6706\t1.47333\t19 \t10 \t1  \t1372  \t1.36722\n",
      "20 \t1367  \t2.54444\t20 \t744    \t0  \t1367  \t28.1952\t1.42867\t20 \t10 \t1  \t1367  \t1.27681\n",
      "21 \t1327  \t1.58   \t21 \t363.667\t0  \t1327  \t18.0602\t1.39267\t21 \t8  \t1  \t1327  \t1.19212\n",
      "22 \t1354  \t0.709333\t22 \t82.6667\t0  \t1354  \t7.05672\t1.34933\t22 \t7  \t1  \t1354  \t1.11742\n",
      "23 \t1343  \t0.778667\t23 \t363.667\t0  \t1343  \t13.1074\t1.32533\t23 \t7  \t1  \t1343  \t1.08359\n",
      "24 \t1352  \t1.37511 \t24 \t793    \t0  \t1352  \t23.2504\t1.29333\t24 \t6  \t1  \t1352  \t1.03245\n",
      "25 \t1376  \t0.974444\t25 \t299.667\t0  \t1376  \t10.9512\t1.28733\t25 \t7  \t1  \t1376  \t1.02735\n",
      "26 \t1341  \t0.605556\t26 \t118.667\t0  \t1341  \t7.18612\t1.27067\t26 \t8  \t1  \t1341  \t1.00933\n",
      "27 \t1336  \t0.823333\t27 \t270.667\t0  \t1336  \t9.7078 \t1.26067\t27 \t7  \t1  \t1336  \t0.990986\n",
      "28 \t1368  \t1.15511 \t28 \t330.667\t0  \t1368  \t15.6522\t1.21333\t28 \t6  \t1  \t1368  \t0.881564\n",
      "29 \t1364  \t0.902444\t29 \t398.667\t0  \t1364  \t14.1803\t1.21933\t29 \t7  \t1  \t1364  \t0.901421\n",
      "30 \t1338  \t1.24756 \t30 \t744    \t0  \t1338  \t24.3611\t1.23   \t30 \t7  \t1  \t1338  \t0.921466\n",
      "31 \t1367  \t1.55489 \t31 \t330.667\t0  \t1367  \t18.2548\t1.248  \t31 \t7  \t1  \t1367  \t0.961854\n",
      "32 \t1359  \t0.583333\t32 \t299.667\t0  \t1359  \t9.37867\t1.22133\t32 \t6  \t1  \t1359  \t0.901302\n",
      "33 \t1336  \t0.540667\t33 \t363.667\t0  \t1336  \t10.714 \t1.18333\t33 \t6  \t1  \t1336  \t0.816735\n",
      "34 \t1334  \t0.523778\t34 \t82.6667\t0  \t1334  \t6.42017\t1.19733\t34 \t7  \t1  \t1334  \t0.858522\n",
      "35 \t1330  \t0.81    \t35 \t330.667\t0  \t1330  \t14.8065\t1.19067\t35 \t7  \t1  \t1330  \t0.856921\n",
      "36 \t1354  \t1.59378 \t36 \t330.667\t0  \t1354  \t19.1482\t1.22867\t36 \t10 \t1  \t1354  \t0.957276\n",
      "37 \t1342  \t0.504222\t37 \t363.667\t0  \t1342  \t10.5666\t1.21267\t37 \t7  \t1  \t1342  \t0.908904\n",
      "38 \t1351  \t0.918   \t38 \t330.667\t0  \t1351  \t12.7503\t1.20267\t38 \t9  \t1  \t1351  \t0.893827\n",
      "39 \t1358  \t0.329778\t39 \t99.6667\t0  \t1358  \t4.87542\t1.19733\t39 \t7  \t1  \t1358  \t0.88151 \n",
      "40 \t1362  \t1.784   \t40 \t652    \t0  \t1362  \t25.0632\t1.18933\t40 \t7  \t1  \t1362  \t0.85488 \n",
      "41 \t1353  \t1.49778 \t41 \t793    \t0  \t1353  \t23.2209\t1.246  \t41 \t7  \t1  \t1353  \t0.968238\n",
      "42 \t1331  \t0.933556\t42 \t330.667\t0  \t1331  \t13.3256\t1.24133\t42 \t7  \t1  \t1331  \t0.94961 \n",
      "43 \t1353  \t0.926889\t43 \t270.667\t0  \t1353  \t10.6908\t1.20733\t43 \t6  \t1  \t1353  \t0.868915\n",
      "44 \t1324  \t1.25378 \t44 \t363.667\t0  \t1324  \t18.6874\t1.236  \t44 \t8  \t1  \t1324  \t0.931113\n",
      "45 \t1326  \t0.961111\t45 \t330.667\t0  \t1326  \t13.1529\t1.24533\t45 \t6  \t1  \t1326  \t0.932279\n",
      "46 \t1353  \t1.07622 \t46 \t330.667\t0  \t1353  \t13.997 \t1.28133\t46 \t7  \t1  \t1353  \t0.997757\n",
      "47 \t1359  \t2.034   \t47 \t744    \t0  \t1359  \t27.2699\t1.25867\t47 \t7  \t1  \t1359  \t0.939375\n",
      "48 \t1355  \t2.05244 \t48 \t744    \t0  \t1355  \t27.1634\t1.28733\t48 \t7  \t1  \t1355  \t1.00039 \n",
      "49 \t1350  \t1.53511 \t49 \t330.667\t0  \t1350  \t16.9628\t1.29133\t49 \t10 \t1  \t1350  \t1.02101 \n",
      "50 \t1320  \t1.66733 \t50 \t363.667\t0  \t1320  \t19.0156\t1.25333\t50 \t7  \t1  \t1320  \t0.951397\n"
     ]
    }
   ],
   "source": [
    "pset = gp.PrimitiveSet(\"MAIN\", 2)\n",
    "\n",
    "pset.addPrimitive(operator.add, 2)  # da biblioteca 'operator' do python\n",
    "pset.addPrimitive(operator.sub, 2)\n",
    "pset.addPrimitive(operator.neg, 1)\n",
    "\n",
    "pset.renameArguments(ARG0='val1')\n",
    "pset.renameArguments(ARG0='val')\n",
    "\n",
    "creator.create(\"FitnessMin\", base.Fitness, weights=(-1.0,))\n",
    "creator.create(\"Individuo\", gp.PrimitiveTree, fitness=creator.FitnessMin)\n",
    "\n",
    "# TABUADA DO 1\n",
    "toolbox = base.Toolbox()\n",
    "\n",
    "toolbox.register(\"expressao\", gp.genHalfAndHalf, pset=pset, min_=1, max_=2)\n",
    "toolbox.register(\"individuo\", tools.initIterate, creator.Individuo, toolbox.expressao)\n",
    "toolbox.register(\"populacao\", tools.initRepeat, list, toolbox.individuo)\n",
    "toolbox.register(\"compilador\", gp.compile, pset=pset)\n",
    "\n",
    "toolbox.register(\"evaluate\", avaliaFitness, points=pontos)\n",
    "toolbox.register(\"select\", tools.selTournament, tournsize=3)\n",
    "toolbox.register(\"mate\", gp.cxOnePoint)\n",
    "toolbox.register(\"expr_mut\", gp.genFull, min_=0, max_=2)\n",
    "toolbox.register(\"mutate\", gp.mutUniform, expr=toolbox.expr_mut, pset=pset)\n",
    "\n",
    "toolbox.decorate(\"mate\", gp.staticLimit(key=operator.attrgetter(\"height\"), max_value=3))\n",
    "toolbox.decorate(\"mutate\", gp.staticLimit(key=operator.attrgetter(\"height\"), max_value=3))\n",
    "\n",
    "\n",
    "pop, log, hof = main()"
   ]
  },
  {
   "cell_type": "code",
   "execution_count": 115,
   "metadata": {},
   "outputs": [
    {
     "data": {
      "text/plain": [
       "<matplotlib.axes._subplots.AxesSubplot at 0x2346b8aa888>"
      ]
     },
     "execution_count": 115,
     "metadata": {},
     "output_type": "execute_result"
    },
    {
     "data": {
      "image/png": "[encoded data removed]",
      "text/plain": [
       "<Figure size 1080x720 with 1 Axes>"
      ]
     },
     "metadata": {
      "needs_background": "light"
     },
     "output_type": "display_data"
    }
   ],
   "source": [
    "import matplotlib.pyplot as plt\n",
    "\n",
    "list_y = []\n",
    "for i in range(0, 4):  \n",
    "    func = toolbox.compilador(expr=hof[i])\n",
    "    y =  [func(x[0], x[1]) for x in pontos]\n",
    "    list_y.append(y)\n",
    "pred_y = pd.DataFrame(list_y).T\n",
    "pred_y.columns = ['hall_of_fame_pred1', 'hall_of_fame_pred2', 'hall_of_fame_pred3', 'hall_of_fame_pred4']\n",
    "plot1_df = pd.concat([y1, pred_y], axis=1)\n",
    "\n",
    "plot1_df.plot(figsize=(15, 10), title='Out-of-sample para tabuada do 1')"
   ]
  },
  {
   "cell_type": "code",
   "execution_count": 126,
   "metadata": {},
   "outputs": [
    {
     "data": {
      "text/html": [
       "<div>\n",
       "<style scoped>\n",
       "    .dataframe tbody tr th:only-of-type {\n",
       "        vertical-align: middle;\n",
       "    }\n",
       "\n",
       "    .dataframe tbody tr th {\n",
       "        vertical-align: top;\n",
       "    }\n",
       "\n",
       "    .dataframe thead th {\n",
       "        text-align: right;\n",
       "    }\n",
       "</style>\n",
       "<table border=\"1\" class=\"dataframe\">\n",
       "  <thead>\n",
       "    <tr style=\"text-align: right;\">\n",
       "      <th></th>\n",
       "      <th>tabuada_1</th>\n",
       "      <th>hall_of_fame_pred1</th>\n",
       "      <th>hall_of_fame_pred2</th>\n",
       "      <th>hall_of_fame_pred3</th>\n",
       "      <th>hall_of_fame_pred4</th>\n",
       "    </tr>\n",
       "  </thead>\n",
       "  <tbody>\n",
       "    <tr>\n",
       "      <th>0</th>\n",
       "      <td>1</td>\n",
       "      <td>1</td>\n",
       "      <td>1</td>\n",
       "      <td>1</td>\n",
       "      <td>1</td>\n",
       "    </tr>\n",
       "    <tr>\n",
       "      <th>1</th>\n",
       "      <td>2</td>\n",
       "      <td>2</td>\n",
       "      <td>2</td>\n",
       "      <td>2</td>\n",
       "      <td>2</td>\n",
       "    </tr>\n",
       "    <tr>\n",
       "      <th>2</th>\n",
       "      <td>3</td>\n",
       "      <td>3</td>\n",
       "      <td>3</td>\n",
       "      <td>3</td>\n",
       "      <td>3</td>\n",
       "    </tr>\n",
       "    <tr>\n",
       "      <th>3</th>\n",
       "      <td>4</td>\n",
       "      <td>4</td>\n",
       "      <td>4</td>\n",
       "      <td>4</td>\n",
       "      <td>4</td>\n",
       "    </tr>\n",
       "    <tr>\n",
       "      <th>4</th>\n",
       "      <td>5</td>\n",
       "      <td>5</td>\n",
       "      <td>5</td>\n",
       "      <td>5</td>\n",
       "      <td>5</td>\n",
       "    </tr>\n",
       "    <tr>\n",
       "      <th>5</th>\n",
       "      <td>6</td>\n",
       "      <td>6</td>\n",
       "      <td>6</td>\n",
       "      <td>6</td>\n",
       "      <td>6</td>\n",
       "    </tr>\n",
       "    <tr>\n",
       "      <th>6</th>\n",
       "      <td>7</td>\n",
       "      <td>7</td>\n",
       "      <td>7</td>\n",
       "      <td>7</td>\n",
       "      <td>7</td>\n",
       "    </tr>\n",
       "    <tr>\n",
       "      <th>7</th>\n",
       "      <td>8</td>\n",
       "      <td>8</td>\n",
       "      <td>8</td>\n",
       "      <td>8</td>\n",
       "      <td>8</td>\n",
       "    </tr>\n",
       "    <tr>\n",
       "      <th>8</th>\n",
       "      <td>9</td>\n",
       "      <td>9</td>\n",
       "      <td>9</td>\n",
       "      <td>9</td>\n",
       "      <td>9</td>\n",
       "    </tr>\n",
       "    <tr>\n",
       "      <th>9</th>\n",
       "      <td>10</td>\n",
       "      <td>10</td>\n",
       "      <td>10</td>\n",
       "      <td>10</td>\n",
       "      <td>10</td>\n",
       "    </tr>\n",
       "    <tr>\n",
       "      <th>10</th>\n",
       "      <td>11</td>\n",
       "      <td>11</td>\n",
       "      <td>11</td>\n",
       "      <td>11</td>\n",
       "      <td>11</td>\n",
       "    </tr>\n",
       "    <tr>\n",
       "      <th>11</th>\n",
       "      <td>12</td>\n",
       "      <td>12</td>\n",
       "      <td>12</td>\n",
       "      <td>12</td>\n",
       "      <td>12</td>\n",
       "    </tr>\n",
       "    <tr>\n",
       "      <th>12</th>\n",
       "      <td>13</td>\n",
       "      <td>13</td>\n",
       "      <td>13</td>\n",
       "      <td>13</td>\n",
       "      <td>13</td>\n",
       "    </tr>\n",
       "    <tr>\n",
       "      <th>13</th>\n",
       "      <td>14</td>\n",
       "      <td>14</td>\n",
       "      <td>14</td>\n",
       "      <td>14</td>\n",
       "      <td>14</td>\n",
       "    </tr>\n",
       "    <tr>\n",
       "      <th>14</th>\n",
       "      <td>15</td>\n",
       "      <td>15</td>\n",
       "      <td>15</td>\n",
       "      <td>15</td>\n",
       "      <td>15</td>\n",
       "    </tr>\n",
       "  </tbody>\n",
       "</table>\n",
       "</div>"
      ],
      "text/plain": [
       "    tabuada_1  hall_of_fame_pred1  hall_of_fame_pred2  hall_of_fame_pred3  \\\n",
       "0           1                   1                   1                   1   \n",
       "1           2                   2                   2                   2   \n",
       "2           3                   3                   3                   3   \n",
       "3           4                   4                   4                   4   \n",
       "4           5                   5                   5                   5   \n",
       "5           6                   6                   6                   6   \n",
       "6           7                   7                   7                   7   \n",
       "7           8                   8                   8                   8   \n",
       "8           9                   9                   9                   9   \n",
       "9          10                  10                  10                  10   \n",
       "10         11                  11                  11                  11   \n",
       "11         12                  12                  12                  12   \n",
       "12         13                  13                  13                  13   \n",
       "13         14                  14                  14                  14   \n",
       "14         15                  15                  15                  15   \n",
       "\n",
       "    hall_of_fame_pred4  \n",
       "0                    1  \n",
       "1                    2  \n",
       "2                    3  \n",
       "3                    4  \n",
       "4                    5  \n",
       "5                    6  \n",
       "6                    7  \n",
       "7                    8  \n",
       "8                    9  \n",
       "9                   10  \n",
       "10                  11  \n",
       "11                  12  \n",
       "12                  13  \n",
       "13                  14  \n",
       "14                  15  "
      ]
     },
     "execution_count": 126,
     "metadata": {},
     "output_type": "execute_result"
    }
   ],
   "source": [
    "plot1_df"
   ]
  },
  {
   "cell_type": "code",
   "execution_count": 123,
   "metadata": {},
   "outputs": [
    {
     "name": "stdout",
     "output_type": "stream",
     "text": [
      "   \t      \t                    fitness                    \t                      size                     \n",
      "   \t      \t-----------------------------------------------\t-----------------------------------------------\n",
      "gen\tnevals\tavg    \tgen\tmax    \tmin \tnevals\tstd    \tavg    \tgen\tmax\tmin\tnevals\tstd    \n",
      "0  \t1500  \t18228.2\t0  \t29742.7\t7800\t1500  \t4199.47\t3.80867\t0  \t7  \t2  \t1500  \t1.63301\n",
      "1  \t1325  \t15186.9\t1  \t29742.7\t6635.67\t1325  \t3628.43\t4.15067\t1  \t9  \t2  \t1325  \t1.59957\n",
      "2  \t1385  \t12729.2\t2  \t26700  \t6635.67\t1385  \t2740.68\t4.496  \t2  \t10 \t2  \t1385  \t1.66232\n",
      "3  \t1337  \t11160.8\t3  \t22425  \t5090.67\t1337  \t2464.47\t5.20533\t3  \t11 \t3  \t1337  \t1.78078\n",
      "4  \t1354  \t9595.01\t4  \t26700  \t5027.67\t1354  \t2249.51\t6.33733\t4  \t11 \t3  \t1354  \t1.86499\n",
      "5  \t1331  \t8438.53\t5  \t21162.7\t3984   \t1331  \t2241.24\t7.39533\t5  \t13 \t1  \t1331  \t1.95731\n",
      "6  \t1353  \t7331.8 \t6  \t17315.7\t3984   \t1353  \t1798.3 \t8.394  \t6  \t13 \t3  \t1353  \t1.92945\n",
      "7  \t1353  \t6536.23\t7  \t22425  \t3042.67\t1353  \t1658.51\t9.29933\t7  \t15 \t2  \t1353  \t1.94432\n",
      "8  \t1338  \t5868.28\t8  \t29742.7\t3042.67\t1338  \t1647.79\t10.2107\t8  \t15 \t3  \t1338  \t1.92171\n",
      "9  \t1352  \t5296.07\t9  \t15225  \t3042.67\t1352  \t1352.51\t11.0193\t9  \t15 \t3  \t1352  \t1.97086\n",
      "10 \t1364  \t4875.35\t10 \t17547.7\t3042.67\t1364  \t1346.61\t11.7713\t10 \t15 \t3  \t1364  \t2.01867\n",
      "11 \t1338  \t4492.86\t11 \t19787.7\t3042.67\t1338  \t1311.56\t12.4953\t11 \t15 \t3  \t1338  \t1.97635\n",
      "12 \t1323  \t4165.5 \t12 \t13067.7\t3042.67\t1323  \t1210.05\t13.0813\t12 \t15 \t3  \t1323  \t1.97485\n",
      "13 \t1362  \t3896.74\t13 \t9825   \t3042.67\t1362  \t1155.63\t13.6213\t13 \t15 \t5  \t1362  \t1.94678\n",
      "14 \t1322  \t3724.74\t14 \t16202.7\t3042.67\t1322  \t1174.69\t13.9447\t14 \t15 \t3  \t1322  \t1.8512 \n",
      "15 \t1335  \t3649.23\t15 \t23890.7\t3042.67\t1335  \t1278.3 \t14.0753\t15 \t15 \t5  \t1335  \t1.749  \n",
      "16 \t1363  \t3622.54\t16 \t16202.7\t3042.67\t1363  \t1148.54\t14.0793\t16 \t15 \t3  \t1363  \t1.76816\n",
      "17 \t1329  \t3607.91\t17 \t11075.7\t3042.67\t1329  \t1138.42\t14.096 \t17 \t15 \t5  \t1329  \t1.77767\n",
      "18 \t1349  \t3636.23\t18 \t12300  \t3042.67\t1349  \t1176.03\t14.0547\t18 \t15 \t7  \t1349  \t1.8344 \n",
      "19 \t1361  \t3647.45\t19 \t21162.7\t3042.67\t1361  \t1263.53\t14.038 \t19 \t15 \t3  \t1361  \t1.83464\n",
      "20 \t1327  \t3575.35\t20 \t10002.7\t3042.67\t1327  \t1056.14\t14.1453\t20 \t15 \t7  \t1327  \t1.69161\n",
      "21 \t1334  \t3624.93\t21 \t22425  \t3042.67\t1334  \t1235.41\t14.0787\t21 \t15 \t2  \t1334  \t1.77026\n",
      "22 \t1370  \t3705.03\t22 \t22425  \t3042.67\t1370  \t1403.8 \t13.9867\t22 \t15 \t1  \t1370  \t1.92037\n",
      "23 \t1338  \t3605.8 \t23 \t25227.7\t3042.67\t1338  \t1285.2 \t14.1207\t23 \t15 \t2  \t1338  \t1.72611\n",
      "24 \t1337  \t3565.67\t24 \t15225  \t3042.67\t1337  \t1100.31\t14.168 \t24 \t15 \t6  \t1337  \t1.6812 \n",
      "25 \t1364  \t3627.26\t25 \t22425  \t3042.67\t1364  \t1224.02\t14.074 \t25 \t15 \t2  \t1364  \t1.80864\n",
      "26 \t1361  \t3644.19\t26 \t25227.7\t3042.67\t1361  \t1313.23\t14.062 \t26 \t15 \t5  \t1361  \t1.81828\n",
      "27 \t1346  \t3614.39\t27 \t12300  \t3042.67\t1346  \t1128.49\t14.0853\t27 \t15 \t3  \t1346  \t1.77409\n",
      "28 \t1347  \t3636.41\t28 \t13067.7\t3042.67\t1347  \t1185.8 \t14.0573\t28 \t15 \t3  \t1347  \t1.81935\n",
      "29 \t1355  \t3643.48\t29 \t22425  \t3042.67\t1355  \t1330.39\t14.0707\t29 \t15 \t2  \t1355  \t1.80933\n",
      "30 \t1334  \t3623.52\t30 \t15225  \t3042.67\t1334  \t1172.73\t14.0807\t30 \t15 \t1  \t1334  \t1.7775 \n",
      "31 \t1356  \t3644.08\t31 \t16202.7\t3042.67\t1356  \t1231.95\t14.0593\t31 \t15 \t5  \t1356  \t1.83007\n",
      "32 \t1350  \t3643.89\t32 \t13067.7\t3042.67\t1350  \t1172.83\t14.0347\t32 \t15 \t7  \t1350  \t1.8396 \n",
      "33 \t1342  \t3606.1 \t33 \t16202.7\t3042.67\t1342  \t1145.35\t14.098 \t33 \t15 \t1  \t1342  \t1.74138\n",
      "34 \t1362  \t3648.54\t34 \t16202.7\t3042.67\t1362  \t1276.14\t14.0453\t34 \t15 \t1  \t1362  \t1.84588\n",
      "35 \t1370  \t3631.04\t35 \t10382.7\t3042.67\t1370  \t1137.81\t14.052 \t35 \t15 \t5  \t1370  \t1.81841\n",
      "36 \t1369  \t3619.39\t36 \t21162.7\t3042.67\t1369  \t1198.61\t14.0953\t36 \t15 \t2  \t1369  \t1.76548\n",
      "37 \t1329  \t3635.02\t37 \t22425  \t3042.67\t1329  \t1304.7 \t14.068 \t37 \t15 \t2  \t1329  \t1.82008\n",
      "38 \t1339  \t3638.68\t38 \t15225  \t3042.67\t1339  \t1200.87\t14.0447\t38 \t15 \t1  \t1339  \t1.85113\n",
      "39 \t1362  \t3719.64\t39 \t13970.7\t3042.67\t1362  \t1284.5 \t13.924 \t39 \t15 \t3  \t1362  \t1.92965\n",
      "40 \t1351  \t3651.12\t40 \t22425  \t3042.67\t1351  \t1270.83\t14.0387\t40 \t15 \t1  \t1351  \t1.8388 \n",
      "41 \t1370  \t3625.14\t41 \t19787.7\t3042.67\t1370  \t1176.71\t14.0707\t41 \t15 \t4  \t1370  \t1.76305\n",
      "42 \t1357  \t3598.07\t42 \t13067.7\t3042.67\t1357  \t1104.71\t14.102 \t42 \t15 \t7  \t1357  \t1.73578\n",
      "43 \t1383  \t3646.11\t43 \t16202.7\t3042.67\t1383  \t1182.7 \t14.0227\t43 \t15 \t1  \t1383  \t1.85674\n",
      "44 \t1366  \t3621.32\t44 \t22425  \t3042.67\t1366  \t1204.37\t14.074 \t44 \t15 \t2  \t1366  \t1.79086\n",
      "45 \t1359  \t3647.3 \t45 \t18600  \t3042.67\t1359  \t1223.51\t14.0407\t45 \t15 \t3  \t1359  \t1.83785\n",
      "46 \t1332  \t3608.8 \t46 \t12300  \t3042.67\t1332  \t1146.68\t14.084 \t46 \t15 \t3  \t1332  \t1.79952\n",
      "47 \t1354  \t3637.84\t47 \t25227.7\t3042.67\t1354  \t1341.35\t14.0633\t47 \t15 \t3  \t1354  \t1.80573\n",
      "48 \t1356  \t3649.07\t48 \t16202.7\t3042.67\t1356  \t1195.4 \t14.0373\t48 \t15 \t1  \t1356  \t1.82353\n",
      "49 \t1377  \t3646.29\t49 \t22425  \t3042.67\t1377  \t1239.75\t14.036 \t49 \t15 \t1  \t1377  \t1.80223\n",
      "50 \t1334  \t3579.96\t50 \t11075.7\t3042.67\t1334  \t1100.08\t14.1407\t50 \t15 \t7  \t1334  \t1.71529\n"
     ]
    }
   ],
   "source": [
    "# TABUADA DO 15\n",
    "pontos = X15.values\n",
    "\n",
    "toolbox = base.Toolbox()\n",
    "\n",
    "toolbox.register(\"expressao\", gp.genHalfAndHalf, pset=pset, min_=1, max_=2)\n",
    "toolbox.register(\"individuo\", tools.initIterate, creator.Individuo, toolbox.expressao)\n",
    "toolbox.register(\"populacao\", tools.initRepeat, list, toolbox.individuo)\n",
    "toolbox.register(\"compilador\", gp.compile, pset=pset)\n",
    "\n",
    "toolbox.register(\"evaluate\", avaliaFitness, points=pontos)\n",
    "toolbox.register(\"select\", tools.selTournament, tournsize=3)\n",
    "toolbox.register(\"mate\", gp.cxOnePoint)\n",
    "toolbox.register(\"expr_mut\", gp.genFull, min_=0, max_=2)\n",
    "toolbox.register(\"mutate\", gp.mutUniform, expr=toolbox.expr_mut, pset=pset)\n",
    "\n",
    "toolbox.decorate(\"mate\", gp.staticLimit(key=operator.attrgetter(\"height\"), max_value=3))\n",
    "toolbox.decorate(\"mutate\", gp.staticLimit(key=operator.attrgetter(\"height\"), max_value=3))\n",
    "\n",
    "\n",
    "pop, log, hof = main()"
   ]
  },
  {
   "cell_type": "code",
   "execution_count": 124,
   "metadata": {},
   "outputs": [
    {
     "data": {
      "text/plain": [
       "<matplotlib.axes._subplots.AxesSubplot at 0x2346a58b408>"
      ]
     },
     "execution_count": 124,
     "metadata": {},
     "output_type": "execute_result"
    },
    {
     "data": {
      "image/png": "[encoded data removed]",
      "text/plain": [
       "<Figure size 1080x720 with 1 Axes>"
      ]
     },
     "metadata": {
      "needs_background": "light"
     },
     "output_type": "display_data"
    }
   ],
   "source": [
    "list_y = []\n",
    "for i in range(0, 4):  \n",
    "    func = toolbox.compilador(expr=hof[i])\n",
    "    y =  [func(x[0], x[1]) for x in pontos]\n",
    "    list_y.append(y)\n",
    "pred_y = pd.DataFrame(list_y).T\n",
    "pred_y.columns = ['hall_of_fame_pred1', 'hall_of_fame_pred2', 'hall_of_fame_pred3', 'hall_of_fame_pred4']\n",
    "plot15_df = pd.concat([y15, pred_y], axis=1)\n",
    "\n",
    "plot15_df.plot(figsize=(15, 10), title='Out-of-sample para tabuada do 15')"
   ]
  },
  {
   "cell_type": "code",
   "execution_count": 125,
   "metadata": {},
   "outputs": [
    {
     "data": {
      "text/html": [
       "<div>\n",
       "<style scoped>\n",
       "    .dataframe tbody tr th:only-of-type {\n",
       "        vertical-align: middle;\n",
       "    }\n",
       "\n",
       "    .dataframe tbody tr th {\n",
       "        vertical-align: top;\n",
       "    }\n",
       "\n",
       "    .dataframe thead th {\n",
       "        text-align: right;\n",
       "    }\n",
       "</style>\n",
       "<table border=\"1\" class=\"dataframe\">\n",
       "  <thead>\n",
       "    <tr style=\"text-align: right;\">\n",
       "      <th></th>\n",
       "      <th>tabuada_15</th>\n",
       "      <th>hall_of_fame_pred1</th>\n",
       "      <th>hall_of_fame_pred2</th>\n",
       "      <th>hall_of_fame_pred3</th>\n",
       "      <th>hall_of_fame_pred4</th>\n",
       "    </tr>\n",
       "  </thead>\n",
       "  <tbody>\n",
       "    <tr>\n",
       "      <th>0</th>\n",
       "      <td>15</td>\n",
       "      <td>64</td>\n",
       "      <td>64</td>\n",
       "      <td>64</td>\n",
       "      <td>64</td>\n",
       "    </tr>\n",
       "    <tr>\n",
       "      <th>1</th>\n",
       "      <td>30</td>\n",
       "      <td>68</td>\n",
       "      <td>68</td>\n",
       "      <td>68</td>\n",
       "      <td>68</td>\n",
       "    </tr>\n",
       "    <tr>\n",
       "      <th>2</th>\n",
       "      <td>45</td>\n",
       "      <td>72</td>\n",
       "      <td>72</td>\n",
       "      <td>72</td>\n",
       "      <td>72</td>\n",
       "    </tr>\n",
       "    <tr>\n",
       "      <th>3</th>\n",
       "      <td>60</td>\n",
       "      <td>76</td>\n",
       "      <td>76</td>\n",
       "      <td>76</td>\n",
       "      <td>76</td>\n",
       "    </tr>\n",
       "    <tr>\n",
       "      <th>4</th>\n",
       "      <td>75</td>\n",
       "      <td>80</td>\n",
       "      <td>80</td>\n",
       "      <td>80</td>\n",
       "      <td>80</td>\n",
       "    </tr>\n",
       "    <tr>\n",
       "      <th>5</th>\n",
       "      <td>90</td>\n",
       "      <td>84</td>\n",
       "      <td>84</td>\n",
       "      <td>84</td>\n",
       "      <td>84</td>\n",
       "    </tr>\n",
       "    <tr>\n",
       "      <th>6</th>\n",
       "      <td>105</td>\n",
       "      <td>88</td>\n",
       "      <td>88</td>\n",
       "      <td>88</td>\n",
       "      <td>88</td>\n",
       "    </tr>\n",
       "    <tr>\n",
       "      <th>7</th>\n",
       "      <td>120</td>\n",
       "      <td>92</td>\n",
       "      <td>92</td>\n",
       "      <td>92</td>\n",
       "      <td>92</td>\n",
       "    </tr>\n",
       "    <tr>\n",
       "      <th>8</th>\n",
       "      <td>135</td>\n",
       "      <td>96</td>\n",
       "      <td>96</td>\n",
       "      <td>96</td>\n",
       "      <td>96</td>\n",
       "    </tr>\n",
       "    <tr>\n",
       "      <th>9</th>\n",
       "      <td>150</td>\n",
       "      <td>100</td>\n",
       "      <td>100</td>\n",
       "      <td>100</td>\n",
       "      <td>100</td>\n",
       "    </tr>\n",
       "    <tr>\n",
       "      <th>10</th>\n",
       "      <td>165</td>\n",
       "      <td>104</td>\n",
       "      <td>104</td>\n",
       "      <td>104</td>\n",
       "      <td>104</td>\n",
       "    </tr>\n",
       "    <tr>\n",
       "      <th>11</th>\n",
       "      <td>180</td>\n",
       "      <td>108</td>\n",
       "      <td>108</td>\n",
       "      <td>108</td>\n",
       "      <td>108</td>\n",
       "    </tr>\n",
       "    <tr>\n",
       "      <th>12</th>\n",
       "      <td>195</td>\n",
       "      <td>112</td>\n",
       "      <td>112</td>\n",
       "      <td>112</td>\n",
       "      <td>112</td>\n",
       "    </tr>\n",
       "    <tr>\n",
       "      <th>13</th>\n",
       "      <td>210</td>\n",
       "      <td>116</td>\n",
       "      <td>116</td>\n",
       "      <td>116</td>\n",
       "      <td>116</td>\n",
       "    </tr>\n",
       "    <tr>\n",
       "      <th>14</th>\n",
       "      <td>225</td>\n",
       "      <td>120</td>\n",
       "      <td>120</td>\n",
       "      <td>120</td>\n",
       "      <td>120</td>\n",
       "    </tr>\n",
       "  </tbody>\n",
       "</table>\n",
       "</div>"
      ],
      "text/plain": [
       "    tabuada_15  hall_of_fame_pred1  hall_of_fame_pred2  hall_of_fame_pred3  \\\n",
       "0           15                  64                  64                  64   \n",
       "1           30                  68                  68                  68   \n",
       "2           45                  72                  72                  72   \n",
       "3           60                  76                  76                  76   \n",
       "4           75                  80                  80                  80   \n",
       "5           90                  84                  84                  84   \n",
       "6          105                  88                  88                  88   \n",
       "7          120                  92                  92                  92   \n",
       "8          135                  96                  96                  96   \n",
       "9          150                 100                 100                 100   \n",
       "10         165                 104                 104                 104   \n",
       "11         180                 108                 108                 108   \n",
       "12         195                 112                 112                 112   \n",
       "13         210                 116                 116                 116   \n",
       "14         225                 120                 120                 120   \n",
       "\n",
       "    hall_of_fame_pred4  \n",
       "0                   64  \n",
       "1                   68  \n",
       "2                   72  \n",
       "3                   76  \n",
       "4                   80  \n",
       "5                   84  \n",
       "6                   88  \n",
       "7                   92  \n",
       "8                   96  \n",
       "9                  100  \n",
       "10                 104  \n",
       "11                 108  \n",
       "12                 112  \n",
       "13                 116  \n",
       "14                 120  "
      ]
     },
     "execution_count": 125,
     "metadata": {},
     "output_type": "execute_result"
    }
   ],
   "source": [
    "plot15_df"
   ]
  },
  {
   "cell_type": "markdown",
   "metadata": {},
   "source": [
    "**Obs.**\n",
    "\n",
    "Tabuada do 1\n",
    "\n",
    "1 x 0 = 0 até 1 x 15 = 15\n",
    "\n",
    "Tabuada do 15\n",
    "\n",
    "15 x 0 = 0 até 15 x 15 = 225\n",
    "\n",
    "Um modo de representar os números que pode ser útil é a representação binária (base 2).\n",
    "\n",
    "Assim, o número 2 na base 10, ($2_{10}$) tem a representação na base 2 == $10_2$. O número $15_{10}$ == $1111_2$. Isso facilita a representação na rede neural. Como exemplo:\n",
    "\n",
    "\n",
    "entradas da rede: ($1111_2$, $1000_2$)\n",
    "\n",
    "saída correta da rede: $01111000_2$"
   ]
  },
  {
   "cell_type": "code",
   "execution_count": 3,
   "metadata": {},
   "outputs": [
    {
     "data": {
      "text/plain": [
       "'0o17'"
      ]
     },
     "execution_count": 3,
     "metadata": {},
     "output_type": "execute_result"
    }
   ],
   "source": [
    "oct(15)"
   ]
  },
  {
   "cell_type": "markdown",
   "metadata": {},
   "source": [
    "Um modo simples de se obter uma lista numérica com a representação binária de um número inteiro é:"
   ]
  },
  {
   "cell_type": "code",
   "execution_count": 5,
   "metadata": {},
   "outputs": [
    {
     "data": {
      "text/plain": [
       "[1, 1, 0, 0, 0, 0, 0, 1, 0, 0, 1]"
      ]
     },
     "execution_count": 5,
     "metadata": {},
     "output_type": "execute_result"
    }
   ],
   "source": [
    "n = 1545\n",
    "\n",
    "[int(i) for i in bin(n)[2:]]"
   ]
  },
  {
   "cell_type": "markdown",
   "metadata": {},
   "source": [
    "Eu utilizei a tabuada máxima do 15 pois é possível representar entrada e saída com 8 bits. Mas você pode generalizar e criar tabuada do tamanho que quiser. Você pode representar os números de outra forma, se achar mais conveniente."
   ]
  },
  {
   "cell_type": "markdown",
   "metadata": {},
   "source": [
    "# Referências\n",
    "\n",
    "[Deep Learning Book](https://www.deeplearningbook.org/) Livro online, por Ian Goodfellow, Yoshua Bengio & Aaron Courville.\n",
    "\n",
    "[Deep Learning](https://www.nature.com/articles/nature14539) por Yann LeCun, Yoshua Bengio & Geoffrey Hinton\n",
    "\n",
    "[ImageNet Classification with Deep Convolutional Neural Networks](https://papers.nips.cc/paper/4824-imagenet-classification-with-deep-convolutional-neural-networks.pdf) por Alex Krizhevsky, Ilya Sutskever & Geoffrey E. Hinton\n",
    "\n",
    "[Understanding the difficulty of training deep feedforward neural networks](http://proceedings.mlr.press/v9/glorot10a/glorot10a.pdf) por Xavier Glorot e Yoshua Bengio\n",
    "\n",
    "[Deep Learning: A critical appraisal](https://arxiv.org/abs/1801.00631) por Gary Marcus\n",
    "\n",
    "[Human-Level Intelligence or Animal-Like Abilities?](https://arxiv.org/abs/1707.04327) por Adnan Darwiche"
   ]
  },
  {
   "cell_type": "code",
   "execution_count": null,
   "metadata": {},
   "outputs": [],
   "source": []
  }
 ],
 "metadata": {
  "kernelspec": {
   "display_name": "Python 3",
   "language": "python",
   "name": "python3"
  },
  "language_info": {
   "codemirror_mode": {
    "name": "ipython",
    "version": 3
   },
   "file_extension": ".py",
   "mimetype": "text/x-python",
   "name": "python",
   "nbconvert_exporter": "python",
   "pygments_lexer": "ipython3",
   "version": "3.8.3"
  }
 },
 "nbformat": 4,
 "nbformat_minor": 2
}
