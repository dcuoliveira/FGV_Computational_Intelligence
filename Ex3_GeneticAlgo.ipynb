{
 "cells": [
  {
   "cell_type": "markdown",
   "metadata": {},
   "source": [
    "# Exercício\n",
    "\n",
    "**Obs.1:** Um bom resultado de otimização do problema é quando não existem trechos cruzados.\n",
    "\n",
    "**Obs.2:** Utilize número de pontos >= 50.\n",
    "\n",
    ">(b)(3pts) Pegue o melhor resultado do item (a), que deve estar de acordo com a **Obs.1** e fixe os dois tamanhos. Faça experimentos variando as probabilidades de crossover e mutação no problema, plote os resultados obtidos e comente. \n",
    "\n",
    ">(c)(3pts) Crie uma função `avalia_percurso_com_restricao` baseada em `avalia_percurso`, que penalize cruzamentos em uma dada longitude ou latitude (vc escolhe). A imagem abaixo mostra um exemplo de restrição sobreposta a uma solução sem restrição."
   ]
  },
  {
   "cell_type": "code",
   "execution_count": null,
   "metadata": {},
   "outputs": [],
   "source": [
    "from deap import base\n",
    "from deap import creator\n",
    "from deap import tools\n",
    "from deap import algorithms\n",
    "\n",
    "import numpy as np\n",
    "import math\n",
    "\n",
    "import matplotlib.pyplot as plt\n",
    "\n",
    "import tqdm as tqdm\n",
    "\n",
    "\n",
    "def avalia_percurso(individuo):\n",
    "    # dado um indivíduo, cria um percurso e calcula a distância euclideana deste percurso\n",
    "    return (distancia_total(cria_percurso(individuo)),)\n",
    "\n",
    "def distancia_total(percurso):\n",
    "    return sum(distancia(percurso[i], percurso[i-1]) \n",
    "               for i in range(len(percurso)))\n",
    "\n",
    "def cria_percurso(individuo):\n",
    "    # dado um indivíduo, cria um percurso \n",
    "    return [list(coordenadas)[e] for e in individuo]\n",
    "\n",
    "def distancia(c1,c2):\n",
    "    # distância euclideana entre dois pontos no espaço complexo (coordenadas dos municípios)\n",
    "    return abs(c1-c2)\n",
    "\n",
    "def main_func(N_, n_pop, n_generations, numPontos):\n",
    "    # CREATOR\n",
    "    creator.create(\"FitnessTSP\", base.Fitness, weights=(-1.0,))\n",
    "    creator.create(\"Individuo\", list, fitness=creator.FitnessTSP)\n",
    "\n",
    "    # TOOLBOX\n",
    "    toolbox = base.Toolbox()\n",
    "    toolbox.register(\"indices\", np.random.permutation, N_)\n",
    "    toolbox.register(\"individuo\", tools.initIterate, creator.Individuo,toolbox.indices)\n",
    "    toolbox.register(\"populacao\", tools.initRepeat, list, toolbox.individuo)\n",
    "\n",
    "    # Operador de crossover\n",
    "    toolbox.register(\"mate\", tools.cxOrdered)\n",
    "\n",
    "    # Operador de mutacao\n",
    "    toolbox.register(\"mutate\", tools.mutShuffleIndexes, indpb=0.02)\n",
    "\n",
    "    # Funcao objetivo\n",
    "    toolbox.register(\"evaluate\", avalia_percurso)\n",
    "\n",
    "    # Operador de selecao\n",
    "    toolbox.register(\"select\", tools.selTournament, tournsize=numPontos)\n",
    "\n",
    "    # Solucao\n",
    "    pop = toolbox.populacao(n=n_pop)\n",
    "    hof = tools.HallOfFame(1)\n",
    "\n",
    "    stats = tools.Statistics(lambda ind: ind.fitness.values)\n",
    "\n",
    "    stats.register(\"avg\", np.mean)\n",
    "    stats.register(\"std\", np.std)\n",
    "    stats.register(\"min\", np.min)\n",
    "    stats.register(\"max\", np.max)\n",
    "\n",
    "    pop, log = algorithms.eaSimple(pop,\\\n",
    "                                       toolbox,\\\n",
    "                                       cxpb=0.7, \\\n",
    "                                       mutpb=0.5, \\\n",
    "                                       ngen=n_generations,\\\n",
    "                                       stats=stats,\\\n",
    "                                       halloffame=hof,\\\n",
    "                                       verbose=False)\n",
    "    \n",
    "    return pop, log"
   ]
  },
  {
   "cell_type": "markdown",
   "metadata": {},
   "source": [
    "**(a)(4pts)** O resultado da otimização depende do tamanho do problema (número de pontos) e da população. Faça experimentos variando-os, plote os resultados obtidos e comente. "
   ]
  },
  {
   "cell_type": "code",
   "execution_count": null,
   "metadata": {
    "pycharm": {
     "is_executing": true
    }
   },
   "outputs": [],
   "source": [
    "# Inputs\n",
    "Ponto = complex\n",
    "\n",
    "N_ = 50\n",
    "x_sel = 2*(np.random.random_sample(N_)-0.5)\n",
    "y_sel = 2*(np.random.random_sample(N_)-0.5)\n",
    "coordenadas = [Ponto(x_sel[i],y_sel[i]) for i in range(N_)]\n",
    "numPontos = len(coordenadas)\n",
    "\n",
    "n_pop = 500\n",
    "n_generations = 500"
   ]
  },
  {
   "cell_type": "code",
   "execution_count": null,
   "metadata": {},
   "outputs": [],
   "source": [
    "# Variando o numero de pontos\n",
    "dict_log_min = []\n",
    "dict_log_avg = []\n",
    "for n in tqdm(np.arange(100, 1000, 50)):    \n",
    "    x_sel = 2*(np.random.random_sample(n)-0.5)\n",
    "    y_sel = 2*(np.random.random_sample(n)-0.5)\n",
    "    coordenadas = [Ponto(x_sel[i],y_sel[i]) for i in range(n)]\n",
    "    numPontos = len(coordenadas)\n",
    "\n",
    "    pop_loop, log_loop = main_func(N_, n_pop, n_generations, numPontos)\n",
    "    dict_log_min.append(log_loop.select('min')) \n",
    "    dict_log_min.append(log_loop.select('avg')) "
   ]
  },
  {
   "cell_type": "code",
   "execution_count": 46,
   "metadata": {},
   "outputs": [
    {
     "data": {
      "text/plain": [
       "[]"
      ]
     },
     "execution_count": 46,
     "metadata": {},
     "output_type": "execute_result"
    }
   ],
   "source": [
    "dict_log_min"
   ]
  },
  {
   "cell_type": "code",
   "execution_count": 16,
   "metadata": {},
   "outputs": [
    {
     "data": {
      "image/png": "[encoded data removed]",
      "text/plain": [
       "<Figure size 864x360 with 1 Axes>"
      ]
     },
     "metadata": {
      "needs_background": "light"
     },
     "output_type": "display_data"
    }
   ],
   "source": [
    "# Plots\n",
    "plt.figure(figsize=(12, 5))\n",
    "plots = plt.loglog(log.select('min'),'c-', log.select('avg'), 'b-')\n",
    "plt.legend(plots, ('Fitness mínimo', 'Fitness médio'), frameon=True)\n",
    "plt.ylabel('Fitness'); plt.xlabel('Geração');\n",
    "\n",
    "plt.title(\"Evolução do processo de otimização - TSP para %d localidades\" % numPontos);"
   ]
  }
 ],
 "metadata": {
  "kernelspec": {
   "display_name": "Python 3",
   "language": "python",
   "name": "python3"
  },
  "language_info": {
   "codemirror_mode": {
    "name": "ipython",
    "version": 3
   },
   "file_extension": ".py",
   "mimetype": "text/x-python",
   "name": "python",
   "nbconvert_exporter": "python",
   "pygments_lexer": "ipython3",
   "version": "3.7.6"
  }
 },
 "nbformat": 4,
 "nbformat_minor": 4
}
